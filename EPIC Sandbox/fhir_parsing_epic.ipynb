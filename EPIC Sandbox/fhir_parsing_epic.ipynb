{
	"cells": [
		{
			"cell_type": "markdown",
			"metadata": {
				"editable": true,
				"trusted": true
			},
			"source": [
				"# AWS Glue Studio Notebook\n",
				"##### You are now running a AWS Glue Studio notebook; To start using your notebook you need to start an AWS Glue Interactive Session.\n"
			]
		},
		{
			"cell_type": "markdown",
			"metadata": {
				"editable": true,
				"trusted": true
			},
			"source": [
				"####  Run this cell to set up and start your interactive session.\n"
			]
		},
		{
			"cell_type": "code",
			"execution_count": 1,
			"metadata": {
				"editable": true,
				"trusted": true,
				"vscode": {
					"languageId": "python_glue_session"
				}
			},
			"outputs": [
				{
					"name": "stdout",
					"output_type": "stream",
					"text": [
						"Welcome to the Glue Interactive Sessions Kernel\n",
						"For more information on available magic commands, please type %help in any new cell.\n",
						"\n",
						"Please view our Getting Started page to access the most up-to-date information on the Interactive Sessions kernel: https://docs.aws.amazon.com/glue/latest/dg/interactive-sessions.html\n",
						"Installed kernel version: 0.38.1 \n",
						"Current idle_timeout is 2800 minutes.\n",
						"idle_timeout has been set to 2880 minutes.\n",
						"Setting Glue version to: 3.0\n",
						"Previous worker type: G.1X\n",
						"Setting new worker type to: G.1X\n",
						"Previous number of workers: 5\n",
						"Setting new number of workers to: 5\n",
						"Authenticating with environment variables and user-defined glue_role_arn: arn:aws:iam::268701953255:role/glue-service-role1\n",
						"Trying to create a Glue session for the kernel.\n",
						"Worker Type: G.1X\n",
						"Number of Workers: 5\n",
						"Session ID: 52f93799-b6d4-46cc-97ad-957486d6b19e\n",
						"Job Type: glueetl\n",
						"Applying the following default arguments:\n",
						"--glue_kernel_version 0.38.1\n",
						"--enable-glue-datacatalog true\n",
						"Waiting for session 52f93799-b6d4-46cc-97ad-957486d6b19e to get into ready status...\n",
						"Session 52f93799-b6d4-46cc-97ad-957486d6b19e has been created.\n",
						"\n"
					]
				}
			],
			"source": [
				"%idle_timeout 2880\n",
				"%glue_version 3.0\n",
				"%worker_type G.1X\n",
				"%number_of_workers 2\n",
				"\n",
				"import sys\n",
				"from awsglue.transforms import *\n",
				"from awsglue.utils import getResolvedOptions\n",
				"from pyspark.context import SparkContext\n",
				"from awsglue.context import GlueContext\n",
				"from awsglue.job import Job\n",
				"  \n",
				"sc = SparkContext.getOrCreate()\n",
				"glueContext = GlueContext(sc)\n",
				"spark = glueContext.spark_session\n",
				"job = Job(glueContext)"
			]
		},
		{
			"cell_type": "markdown",
			"metadata": {
				"tags": []
			},
			"source": [
				"### Importing functions and types"
			]
		},
		{
			"cell_type": "code",
			"execution_count": 2,
			"metadata": {
				"tags": [],
				"trusted": true,
				"vscode": {
					"languageId": "python_glue_session"
				}
			},
			"outputs": [
				{
					"name": "stdout",
					"output_type": "stream",
					"text": [
						"\n"
					]
				}
			],
			"source": [
				"from pyspark.sql.functions import from_json, col\n",
				"from pyspark.sql.types import StringType, ArrayType, StructType, StructField, MapType"
			]
		},
		{
			"cell_type": "markdown",
			"metadata": {
				"tags": []
			},
			"source": [
				"### Defining schema, to be used in reading the json files"
			]
		},
		{
			"cell_type": "code",
			"execution_count": 3,
			"metadata": {
				"tags": [],
				"trusted": true,
				"vscode": {
					"languageId": "python_glue_session"
				}
			},
			"outputs": [
				{
					"name": "stdout",
					"output_type": "stream",
					"text": [
						"\n"
					]
				}
			],
			"source": [
				"schema = StructType([\n",
				"    StructField('Patient', StringType(), True),\n",
				"    StructField('Identifiers and Credentials',StringType(), True),\n",
				"    StructField('Applicable Resources', ArrayType(StringType()), True)\n",
				"    ])"
			]
		},
		{
			"cell_type": "markdown",
			"metadata": {},
			"source": [
				"### Reading data from s3://sample-bucket-hek/fhir_test_patients/"
			]
		},
		{
			"cell_type": "code",
			"execution_count": 4,
			"metadata": {
				"tags": [],
				"trusted": true,
				"vscode": {
					"languageId": "python_glue_session"
				}
			},
			"outputs": [
				{
					"name": "stdout",
					"output_type": "stream",
					"text": [
						"\n"
					]
				}
			],
			"source": [
				"sample_path = 's3://sample-bucket-hek/fhir_test_patients/'\n",
				"df = spark.read.schema(schema) \\\n",
				"      .option(\"multiline\",\"true\") \\\n",
				"      .json(sample_path)"
			]
		},
		{
			"cell_type": "markdown",
			"metadata": {
				"tags": []
			},
			"source": [
				"### Display dataframe, read from json"
			]
		},
		{
			"cell_type": "code",
			"execution_count": 5,
			"metadata": {
				"tags": [],
				"trusted": true,
				"vscode": {
					"languageId": "python_glue_session"
				}
			},
			"outputs": [
				{
					"name": "stdout",
					"output_type": "stream",
					"text": [
						"+--------------+-----------------------------------------------------------------------------------------------------------------------------------------------+----------------------------------------------------------------------------------------------------------------------------------------+\n",
						"|Patient       |Identifiers and Credentials                                                                                                                    |Applicable Resources                                                                                                                    |\n",
						"+--------------+-----------------------------------------------------------------------------------------------------------------------------------------------+----------------------------------------------------------------------------------------------------------------------------------------+\n",
						"|Camila Lopez  |{\"FHIR\":\"erXuFYUfucBZaryVksYEcMg3\",\"External\":\"Z6129\",\"MRN\":203713,\"MyChart Login Username\":\"fhircamila\",\"MyChart Login Password\":\"epicepic1\"} |[DiagnosticReport, Medication, MedicationOrder, MedicationRequest, MedicationStatement, Observation (Labs), Patient, Procedure]         |\n",
						"|Derrick Lin   |{\"FHIR\":\"eq081-VQEgP8drUUqCWzHfw3\",\"External\":\"Z6127\",\"MRN\":203711,\"MyChart Login Username\":\"fhirderrick\",\"MyChart Login Password\":\"epicepic1\"}|[CarePlan, Condition, Goal, Medication, MedicationOrder, MedicationRequest, MedicationStatement, Observation (Smoking History), Patient]|\n",
						"|Desiree Powell|{\"FHIR\":\"eAB3mDIBBcyUKviyzrxsnAw3\",\"External\":\"Z6130\",\"MRN\":203714,\"MyChart Login Username\":\"fhirdesiree\",\"MyChart Login Password\":\"epicepic1\"}|[Immunization, Observation (Vitals), Patient]                                                                                           |\n",
						"+--------------+-----------------------------------------------------------------------------------------------------------------------------------------------+----------------------------------------------------------------------------------------------------------------------------------------+\n"
					]
				}
			],
			"source": [
				"df.show(100, truncate=False)"
			]
		},
		{
			"cell_type": "markdown",
			"metadata": {
				"tags": []
			},
			"source": [
				"### Converting 'Identifiers and Credentials' column of json string to map type"
			]
		},
		{
			"cell_type": "code",
			"execution_count": 7,
			"metadata": {
				"tags": [],
				"trusted": true,
				"vscode": {
					"languageId": "python_glue_session"
				}
			},
			"outputs": [
				{
					"name": "stdout",
					"output_type": "stream",
					"text": [
						"root\n",
						" |-- Patient: string (nullable = true)\n",
						" |-- Identifiers and Credentials: map (nullable = true)\n",
						" |    |-- key: string\n",
						" |    |-- value: string (valueContainsNull = true)\n",
						" |-- Applicable Resources: array (nullable = true)\n",
						" |    |-- element: string (containsNull = true)\n",
						"\n",
						"+--------------+------------------------------------------------------------------------------------------------------------------------------------------------+----------------------------------------------------------------------------------------------------------------------------------------+\n",
						"|Patient       |Identifiers and Credentials                                                                                                                     |Applicable Resources                                                                                                                    |\n",
						"+--------------+------------------------------------------------------------------------------------------------------------------------------------------------+----------------------------------------------------------------------------------------------------------------------------------------+\n",
						"|Camila Lopez  |{FHIR -> erXuFYUfucBZaryVksYEcMg3, External -> Z6129, MRN -> 203713, MyChart Login Username -> fhircamila, MyChart Login Password -> epicepic1} |[DiagnosticReport, Medication, MedicationOrder, MedicationRequest, MedicationStatement, Observation (Labs), Patient, Procedure]         |\n",
						"|Derrick Lin   |{FHIR -> eq081-VQEgP8drUUqCWzHfw3, External -> Z6127, MRN -> 203711, MyChart Login Username -> fhirderrick, MyChart Login Password -> epicepic1}|[CarePlan, Condition, Goal, Medication, MedicationOrder, MedicationRequest, MedicationStatement, Observation (Smoking History), Patient]|\n",
						"|Desiree Powell|{FHIR -> eAB3mDIBBcyUKviyzrxsnAw3, External -> Z6130, MRN -> 203714, MyChart Login Username -> fhirdesiree, MyChart Login Password -> epicepic1}|[Immunization, Observation (Vitals), Patient]                                                                                           |\n",
						"+--------------+------------------------------------------------------------------------------------------------------------------------------------------------+----------------------------------------------------------------------------------------------------------------------------------------+\n"
					]
				}
			],
			"source": [
				"df2=df.withColumn(\"Identifiers and Credentials\",from_json(col(\"Identifiers and Credentials\"),MapType(StringType(),StringType())))\n",
				"df2.printSchema()\n",
				"df2.show(truncate=False)"
			]
		},
		{
			"cell_type": "markdown",
			"metadata": {
				"tags": []
			},
			"source": [
				"### Flatten maptype column to individual columns"
			]
		},
		{
			"cell_type": "code",
			"execution_count": 18,
			"metadata": {
				"tags": [],
				"trusted": true,
				"vscode": {
					"languageId": "python_glue_session"
				}
			},
			"outputs": [
				{
					"name": "stdout",
					"output_type": "stream",
					"text": [
						"\n"
					]
				}
			],
			"source": [
				"df3 = df2.withColumn(\"Identifiers_and_Credentials_FHIR\", col(\"Identifiers and Credentials\").getItem(\"FHIR\")) \\\n",
				"        .withColumn(\"Identifiers_and_Credentials_External\", col(\"Identifiers and Credentials\").getItem(\"External\")) \\\n",
				"        .withColumn(\"Identifiers_and_Credentials_MRN\", col(\"Identifiers and Credentials\").getItem(\"MRN\")) \\\n",
				"        .withColumn(\"Identifiers_and_Credentials_MyChart_Login_Username\", col(\"Identifiers and Credentials\").getItem(\"MyChart Login Username\")) \\\n",
				"        .withColumn(\"Identifiers_and_Credentials_MyChart_Login_Password\", col(\"Identifiers and Credentials\").getItem(\"MyChart Login Password\")) \\\n",
				"        .drop(col(\"Identifiers and Credentials\"))\n",
				"\n",
				"#Convert arraytype column Applicable Resources to string, as csv does not support arraytype columns\n",
				"#AnalysisException: CSV data source does not support array<string> data type.\n",
				"df4 = df3.withColumn(\"Applicable Resources\", col(\"Applicable Resources\").cast(\"String\"))"
			]
		},
		{
			"cell_type": "markdown",
			"metadata": {
				"tags": []
			},
			"source": [
				"### Display final dataframe before saving as csv"
			]
		},
		{
			"cell_type": "code",
			"execution_count": 19,
			"metadata": {
				"tags": [],
				"trusted": true,
				"vscode": {
					"languageId": "python_glue_session"
				}
			},
			"outputs": [
				{
					"name": "stdout",
					"output_type": "stream",
					"text": [
						"+--------------+--------------------------------+------------------------------------+-------------------------------+--------------------------------------------------+--------------------------------------------------+----------------------------------------------------------------------------------------------------------------------------------------+\n",
						"|Patient       |Identifiers_and_Credentials_FHIR|Identifiers_and_Credentials_External|Identifiers_and_Credentials_MRN|Identifiers_and_Credentials_MyChart_Login_Username|Identifiers_and_Credentials_MyChart_Login_Password|Applicable Resources                                                                                                                    |\n",
						"+--------------+--------------------------------+------------------------------------+-------------------------------+--------------------------------------------------+--------------------------------------------------+----------------------------------------------------------------------------------------------------------------------------------------+\n",
						"|Camila Lopez  |erXuFYUfucBZaryVksYEcMg3        |Z6129                               |203713                         |fhircamila                                        |epicepic1                                         |[DiagnosticReport, Medication, MedicationOrder, MedicationRequest, MedicationStatement, Observation (Labs), Patient, Procedure]         |\n",
						"|Derrick Lin   |eq081-VQEgP8drUUqCWzHfw3        |Z6127                               |203711                         |fhirderrick                                       |epicepic1                                         |[CarePlan, Condition, Goal, Medication, MedicationOrder, MedicationRequest, MedicationStatement, Observation (Smoking History), Patient]|\n",
						"|Desiree Powell|eAB3mDIBBcyUKviyzrxsnAw3        |Z6130                               |203714                         |fhirdesiree                                       |epicepic1                                         |[Immunization, Observation (Vitals), Patient]                                                                                           |\n",
						"+--------------+--------------------------------+------------------------------------+-------------------------------+--------------------------------------------------+--------------------------------------------------+----------------------------------------------------------------------------------------------------------------------------------------+\n"
					]
				}
			],
			"source": [
				"df4.select(\"Patient\", \"Identifiers_and_Credentials_FHIR\", \"Identifiers_and_Credentials_External\", \n",
				"           \"Identifiers_and_Credentials_MRN\", \"Identifiers_and_Credentials_MyChart_Login_Username\", \n",
				"           \"Identifiers_and_Credentials_MyChart_Login_Password\", \"Applicable Resources\").show(100, truncate=False)"
			]
		},
		{
			"cell_type": "markdown",
			"metadata": {},
			"source": [
				"### Save dataframe to csv"
			]
		},
		{
			"cell_type": "code",
			"execution_count": 22,
			"metadata": {
				"tags": [],
				"trusted": true,
				"vscode": {
					"languageId": "python_glue_session"
				}
			},
			"outputs": [
				{
					"name": "stdout",
					"output_type": "stream",
					"text": [
						"\n"
					]
				}
			],
			"source": [
				"output_path = 's3://sample-bucket-hek/fhir_output/'\n",
				"df4.select(\"Patient\", \"Identifiers_and_Credentials_FHIR\", \"Identifiers_and_Credentials_External\", \n",
				"           \"Identifiers_and_Credentials_MRN\", \"Identifiers_and_Credentials_MyChart_Login_Username\", \n",
				"           \"Identifiers_and_Credentials_MyChart_Login_Password\", \"Applicable Resources\")\\\n",
				"    .coalesce(1) \\\n",
				"    .write.option(\"header\",True) \\\n",
				"     .csv(output_path)"
			]
		}
	],
	"metadata": {
		"kernelspec": {
			"display_name": "Glue PySpark",
			"language": "python",
			"name": "glue_pyspark"
		},
		"language_info": {
			"codemirror_mode": {
				"name": "python",
				"version": 3
			},
			"file_extension": ".py",
			"mimetype": "text/x-python",
			"name": "Python_Glue_Session",
			"pygments_lexer": "python3"
		}
	},
	"nbformat": 4,
	"nbformat_minor": 4
}
